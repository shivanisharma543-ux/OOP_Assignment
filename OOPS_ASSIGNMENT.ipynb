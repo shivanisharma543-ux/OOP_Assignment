{
  "nbformat": 4,
  "nbformat_minor": 0,
  "metadata": {
    "colab": {
      "provenance": [],
      "authorship_tag": "ABX9TyP2QveuHqEvJGgyBIERbscI",
      "include_colab_link": true
    },
    "kernelspec": {
      "name": "python3",
      "display_name": "Python 3"
    },
    "language_info": {
      "name": "python"
    }
  },
  "cells": [
    {
      "cell_type": "markdown",
      "metadata": {
        "id": "view-in-github",
        "colab_type": "text"
      },
      "source": [
        "<a href=\"https://colab.research.google.com/github/shivanisharma543-ux/OOP_Assignment/blob/main/OOPS_ASSIGNMENT.ipynb\" target=\"_parent\"><img src=\"https://colab.research.google.com/assets/colab-badge.svg\" alt=\"Open In Colab\"/></a>"
      ]
    },
    {
      "cell_type": "code",
      "execution_count": null,
      "metadata": {
        "id": "qUJHMnWdYeY3"
      },
      "outputs": [],
      "source": [
        "'''\n",
        "1. What is Object-Oriented Programming (OOP)?\n",
        "          - OOP is a style of programming that organises software design around objects  rather than functions or logic.\n",
        "          - An object is a collection of related data called attributes or properties and functions also called as methods operate on them.\n",
        "          - Classes are the template for creating objects.\n",
        "          - the idea is to model real-world entities in code, making programs easier to understand, maintain and extend.\n",
        "'''"
      ]
    },
    {
      "cell_type": "code",
      "source": [
        "'''\n",
        "2. What is a class in OOP?\n",
        "        -A class in OOP is ablueprint or template for creating objects.\n",
        "        -It defines what data (attributes/properties) and what behaviour(methods/functions) an object of that class will have.\n",
        "        -Objects are instances of the class.\n",
        "'''"
      ],
      "metadata": {
        "id": "vhJS52_4Zwu1"
      },
      "execution_count": null,
      "outputs": []
    },
    {
      "cell_type": "code",
      "source": [
        "'''\n",
        "3.What is an object in OOP?\n",
        "      -In OOP an object is an instance of a class.\n",
        "      -It is created using class a temnplate or blueprint.\n",
        "      -It is collection of related data(attributes/properties) and methods that operated on them.\n",
        "'''"
      ],
      "metadata": {
        "id": "l9bgr06Tata3"
      },
      "execution_count": null,
      "outputs": []
    },
    {
      "cell_type": "code",
      "source": [
        "'''\n",
        "4. What is the difference between abstraction and encapsulation?\n",
        "        - ABSTRACTION: Hides complex implementation details showing only the essential details.\n",
        "                        Focuses on what an object does.\n",
        "                        It is achieved through abstract classes and interfaces.\n",
        "        -ENCAPSULATION: Wraps data (variable) and methods together in a single unit.\n",
        "                        Focuses on how the data/implementation is protected.\n",
        "                        Achieved by using classes Access Modifiers(private,public and protected)\n",
        "'''"
      ],
      "metadata": {
        "id": "OssP2ucVbeRZ"
      },
      "execution_count": null,
      "outputs": []
    },
    {
      "cell_type": "code",
      "source": [
        "'''\n",
        "5. What are dunder methods in Python?\n",
        "        - They are special, built-in methods in Python that starts and ends with double underscores.\n",
        "        - They are also called as Magic methods\n",
        "        - They allow you to customize the behaviour of objects.\n",
        "'''"
      ],
      "metadata": {
        "id": "L0hgwsYkdUYa"
      },
      "execution_count": null,
      "outputs": []
    },
    {
      "cell_type": "code",
      "source": [
        "'''\n",
        "6. Explain the concept of inheritance in OOP?\n",
        "        -Inheritance is a mechanism that allows one class (called chid or derived class) to inherit properties from another class (called as parent or base class).\n",
        "        -It promoted code reuse and creates a natural hierarchy.\n",
        "'''"
      ],
      "metadata": {
        "id": "PKdmPzyOeyZf"
      },
      "execution_count": null,
      "outputs": []
    },
    {
      "cell_type": "code",
      "source": [
        "'''\n",
        "7. What is polymorphism in OOP?\n",
        "        - Polymorphism means 'one name many forms'.\n",
        "        - It allows same method, operator, or object to behave differently depending on the context.\n",
        "'''"
      ],
      "metadata": {
        "id": "MpyfSaaQfx6W"
      },
      "execution_count": null,
      "outputs": []
    },
    {
      "cell_type": "code",
      "source": [
        "'''\n",
        "8. How is encapsulation achieved in Python?\n",
        "        - Encapsulation in python is achieved by restricting direst access to an object's attributes and methods through the use of access modifiers.\n",
        "            -Public members: accessible eveywhere.\n",
        "            -Protected members: defined by single underscore(_name). Not accessed directly outside the class (convention only).\n",
        "            -Private members: defined by double underscore(__name). Not accessible outside the class.\n",
        "            -Using getters and setters: Encapsulation is more meaningful when we hide and expose data using getters and setters.\n",
        "\n",
        "'''"
      ],
      "metadata": {
        "id": "ep4jIqrLmHDd"
      },
      "execution_count": null,
      "outputs": []
    },
    {
      "cell_type": "code",
      "source": [
        "'''\n",
        "9. What is a constructor in Python?\n",
        "          - A constructor is a special method that is automatically called when an object of a class is created.\n",
        "          - It is mainly used to initialize the object's attributes with default or given values.\n",
        "'''"
      ],
      "metadata": {
        "id": "BvLodpsIKHBv"
      },
      "execution_count": null,
      "outputs": []
    },
    {
      "cell_type": "code",
      "source": [
        "'''\n",
        "10. What are class and static methods in Python?\n",
        "            - Class method: -Declared with @classmethod.\n",
        "                            -First parameter is always cls(the class itself, not the object)\n",
        "                            -Can access and modify class-level attributes, but not the instance-specific ones.\n",
        "            - Static method:-Declared with @staticmethod.\n",
        "                            -Does not take self or cls as the first arguement.\n",
        "                            -Works like a normal function but lives inside the class for organization.\n",
        "                            -Cannot access or modify class or instance attributed directly.\n",
        "'''"
      ],
      "metadata": {
        "id": "C9s4xeBnLomR"
      },
      "execution_count": null,
      "outputs": []
    },
    {
      "cell_type": "code",
      "source": [
        "'''\n",
        "11.  What is method overloading in Python?\n",
        "            -Python does not support true or traditional method overloading.\n",
        "            -However, the last defined method with the same name overwrites the previous ones.\n",
        "            -Overloading can be stimulated using default arguements, args and kwargs.\n",
        "'''"
      ],
      "metadata": {
        "id": "WGXMbSYdM2ax"
      },
      "execution_count": null,
      "outputs": []
    },
    {
      "cell_type": "code",
      "source": [
        "'''\n",
        "12. What is method overriding in OOP?\n",
        "          -Method overriding happens when a child class definesa method with the same name as a method in its parent class.\n",
        "          -The child class version replaces (overrides) the parent class's version when called from an object of the child.\n",
        "          -It allows us to change or extend the behaviour of inherited methods.\n",
        "'''"
      ],
      "metadata": {
        "id": "jUEyTyc1N_aw"
      },
      "execution_count": null,
      "outputs": []
    },
    {
      "cell_type": "code",
      "source": [
        "'''\n",
        "13. What is a property decorator in Python?\n",
        "          -The @property decorator is a bulit-in feature that lets you define methods like class that can be accessed like attributes.\n",
        "          -With @property, a method can act like a simple attribute instead of calling it with parentheses unlike normal function.\n",
        "'''"
      ],
      "metadata": {
        "id": "rKrEMxlGPDW8"
      },
      "execution_count": null,
      "outputs": []
    },
    {
      "cell_type": "code",
      "source": [
        "'''\n",
        "14. Why is polymorphism important in OOP?\n",
        "        -Polymorphism allows one interface and many implementations, this brings several advantages.\n",
        "              -Code reusability and flexiblity\n",
        "              -Extensibility\n",
        "              -Improves mantainability\n",
        "              -Supports Abstraction\n",
        "              -Enables runtime polymorphism\n",
        "'''"
      ],
      "metadata": {
        "id": "nLAjy6284DzK"
      },
      "execution_count": null,
      "outputs": []
    },
    {
      "cell_type": "code",
      "source": [
        "'''\n",
        "15. What is an abstract class in Python?\n",
        "          -An abstract class in Python is a class that cannot be instantiated directly.\n",
        "          -It is meant to be a blueprint for other classes.\n",
        "          -It can contain abstract methods, which are methods that are declared but have no implementation.\n",
        "'''"
      ],
      "metadata": {
        "id": "cv4WQ9l189rm"
      },
      "execution_count": null,
      "outputs": []
    },
    {
      "cell_type": "code",
      "source": [
        "'''\n",
        "16. What are the advantages of OOP?\n",
        "        OOP offers several advantages:\n",
        "        -Modularity(Code reusability): Classes and objects can be reused across different programs through inheritance.\n",
        "        -Security: Through encapsulation data and methods are bundled together and access to data is restricted yby using access modifiers.\n",
        "        -Cleaner and understandable code: Through abstraction only essential details are exposed hiding away the complexity.\n",
        "        -Flexibility: Objects can take many forms (polymorphism).\n",
        "        -Reusable classes, libraries and frameworks save time.\n",
        "        -Maintainability and scalability.\n",
        "'''\n"
      ],
      "metadata": {
        "id": "ktuE52cm-b-s"
      },
      "execution_count": null,
      "outputs": []
    },
    {
      "cell_type": "code",
      "source": [
        "'''\n",
        "17. what is the difference between a class variable and an instance variable?\n",
        "          -Class Variable: Belongs to class(shared by all objects)\n",
        "                           Defined inside the class and outside methods.\n",
        "                           Change in the class variable affects all instances(if changes via class)\n",
        "          -Instance Variable: Belongs to individual objects (unique to each)\n",
        "                              Defined inside __init__or methods using self.\n",
        "                              Change in the instance variable does not affect other instances.\n",
        "'''\n",
        "\n"
      ],
      "metadata": {
        "id": "2U5SoIGrPfCw"
      },
      "execution_count": null,
      "outputs": []
    },
    {
      "cell_type": "code",
      "source": [
        "'''\n",
        "18. What is multiple inheritance in Python?\n",
        "          -Multiple inheritance is a feature in OOP where a class can inherit properties or methods from more than one parent class.\n",
        "'''\n"
      ],
      "metadata": {
        "id": "-2Oijzn3RxEp"
      },
      "execution_count": null,
      "outputs": []
    },
    {
      "cell_type": "code",
      "source": [
        "'''\n",
        "19. Explain the purpose of ‘’__str__’ and ‘__repr__’ ‘ methods in Python?\n",
        "          -__str__: Defines the “user-friendly” or readable string representation of the object.\n",
        "                    It’s what gets returned when you use print(obj) or str(obj).\n",
        "                    Make it easy for humans to understand.\n",
        "          -__repr__: Defines the “official” or formal string representation of the object.\n",
        "                     It’s what gets returned when you call repr(obj) or just type obj in an interactive shell.\n",
        "                     Should ideally return a string that could be used to recreate the object (or at least be unambiguous).\n",
        "\n",
        "'''\n"
      ],
      "metadata": {
        "id": "50x_F-23SN4u"
      },
      "execution_count": null,
      "outputs": []
    },
    {
      "cell_type": "code",
      "source": [
        "'''\n",
        "20. What is the significance of the ‘super()’ function in Python?\n",
        "            -It is a very important method when working with inheritance in Python.\n",
        "            -It is used to call a method from the parent (superclass) inside a child (subclass).\n",
        "            -Commonly used inside the constructor __init__, but can also be used with other methods.\n",
        "            -Helps avoid repetition and makes code easier to maintain.\n",
        "'''"
      ],
      "metadata": {
        "id": "NlaS7HaeTheB"
      },
      "execution_count": null,
      "outputs": []
    },
    {
      "cell_type": "code",
      "source": [
        "'''\n",
        "21. What is the significance of the __del__ method in Python?\n",
        "          -__del__ is a destructor method used to delete a method or object.Its main role is to define cleanup actions.\n",
        "'''"
      ],
      "metadata": {
        "id": "ld9SyQeRUHgo"
      },
      "execution_count": null,
      "outputs": []
    },
    {
      "cell_type": "code",
      "source": [
        "'''\n",
        "22.  What is the difference between @staticmethod and @classmethod in Python?\n",
        "          -@staticmethod: A method that doesn’t depend on the class or instance.\n",
        "                          Behaves like a normal function, but lives inside the class for organization.\n",
        "                          It cannot access or modify class-level data (cls) or instance-level data (self).\n",
        "          -@classmethod: A method that takes the class itself as the first parameter (cls).\n",
        "                         Can access and modify class variables that are shared across all instances.\n",
        "                         Useful for factory methods (creating objects in different ways).\n",
        "                         Can be used to create alternative constructors.\n",
        "'''\n"
      ],
      "metadata": {
        "id": "BORPwaYOUh5b"
      },
      "execution_count": null,
      "outputs": []
    },
    {
      "cell_type": "code",
      "source": [
        "'''\n",
        "23. How does polymorphism work in Python with inheritance?\n",
        "          -Polymorphism means \"many forms\".\n",
        "          -In OOP, it allows the same method name to behave differently depending on the object (class) that calls it.\n",
        "          -With inheritance, polymorphism works because subclasses can override methods of the parent class.\n",
        "'''\n",
        ""
      ],
      "metadata": {
        "id": "nINIYJhlVICe"
      },
      "execution_count": null,
      "outputs": []
    },
    {
      "cell_type": "code",
      "source": [
        "'''\n",
        "24. What is method chaining in Python OOP?\n",
        "          -Method chaining means calling multiple methods on the same object in a single line, one after another.\n",
        "          -Each method returns the object itself (self), so the next method can be called on it.\n",
        "          -This leads to a fluent interface, making the code shorter and more readable.\n",
        "'''"
      ],
      "metadata": {
        "id": "t2vOWpd5VnD-"
      },
      "execution_count": null,
      "outputs": []
    },
    {
      "cell_type": "code",
      "source": [
        "'''\n",
        "25. What is the purpose of the __call__ method in Python?\n",
        "          -__call__ allows an instance of a class to be called like a function.\n",
        "          -If a class defines a __call__ method, you can use () on its object, just like calling a regular function.\n",
        "          -This is useful when you want objects to behave like functions with some internal state.\n",
        "'''"
      ],
      "metadata": {
        "id": "bjpwf4k8V7ps"
      },
      "execution_count": null,
      "outputs": []
    },
    {
      "cell_type": "code",
      "source": [
        "#1. Create a parent class Animal with a method speak() that prints a generic message. Create a child class Dog that overrides the speak() method to print \"Bark!\".\n",
        "class Animal:\n",
        "  def speak(self):\n",
        "    print(\"animal sound\")\n",
        "class Dog(Animal):\n",
        "  def speak(self):\n",
        "    print(\"Bark!\")\n",
        "D1=Dog()\n",
        "D1.speak()"
      ],
      "metadata": {
        "colab": {
          "base_uri": "https://localhost:8080/"
        },
        "id": "qgxuZHEYWPrT",
        "outputId": "aa08358f-06e5-49d8-fd2f-46e8d4b212d7"
      },
      "execution_count": 3,
      "outputs": [
        {
          "output_type": "stream",
          "name": "stdout",
          "text": [
            "Bark!\n"
          ]
        }
      ]
    },
    {
      "cell_type": "code",
      "source": [
        "#2. Write a program to create an abstract class Shape with a method area(). Derive classes Circle and Rectangle\n",
        "#from it and implement the area() method in both.\n",
        "import abc\n",
        "class Shape(abc.ABC): # Inherit from ABC to make it an abstract class\n",
        "  @abc.abstractmethod\n",
        "  def area(self):\n",
        "    pass\n",
        "class Circle(Shape): # Inherit from Shape\n",
        "  def __init__(self, r): # Add a constructor to accept the radius\n",
        "    self.r = r\n",
        "  def area(self): # Implement the abstract method\n",
        "    print(f\"Area of Circle: {3.14 * self.r ** 2}\")\n",
        "class Rectangle(Shape): # Inherit from Shape\n",
        "  def __init__(self, l, b): # Add a constructor to accept length and breadth\n",
        "    self.l = l\n",
        "    self.b = b\n",
        "  def area(self): # Implement the abstract method\n",
        "    print(f\"Area of Rectangle: {self.l * self.b}\")\n",
        "\n",
        "C1 = Circle(5)\n",
        "R1 = Rectangle(2, 4)\n",
        "C1.area()\n",
        "R1.area()"
      ],
      "metadata": {
        "colab": {
          "base_uri": "https://localhost:8080/"
        },
        "id": "nRa6Fi6nXfBH",
        "outputId": "a11c9275-dec9-4326-b41e-413d3e23f584"
      },
      "execution_count": 5,
      "outputs": [
        {
          "output_type": "stream",
          "name": "stdout",
          "text": [
            "Area of Circle: 78.5\n",
            "Area of Rectangle: 8\n"
          ]
        }
      ]
    },
    {
      "cell_type": "code",
      "source": [
        "#3. Implement a multi-level inheritance scenario where a class Vehicle has an attribute type. Derive a class Car\n",
        "#and further derive a class ElectricCar that adds a battery attribute.\n",
        "class Vehicle:\n",
        "  def __init__(self,type):\n",
        "    self.type=type\n",
        "  def get_type(self): # Changed from get.type\n",
        "    return self.type\n",
        "\n",
        "class Car(Vehicle):\n",
        "  def __init__(self,type,model):\n",
        "    super().__init__(type)\n",
        "    self.model=model\n",
        "\n",
        "class ElectricCar(Car):\n",
        "  def __init__(self,type,model,battery):\n",
        "    super().__init__(type,model)\n",
        "    self.battery=battery\n",
        "\n",
        "ecar=ElectricCar('Car', 'Tesla', '50kWh')\n",
        "print(ecar.type)\n",
        "print(ecar.model)\n",
        "print(ecar.battery)"
      ],
      "metadata": {
        "colab": {
          "base_uri": "https://localhost:8080/"
        },
        "id": "qTpT8Rt1ZlY7",
        "outputId": "17df4325-4675-4218-d19d-28b6ddcd0a78"
      },
      "execution_count": 7,
      "outputs": [
        {
          "output_type": "stream",
          "name": "stdout",
          "text": [
            "Car\n",
            "Tesla\n",
            "50kWh\n"
          ]
        }
      ]
    },
    {
      "cell_type": "code",
      "source": [
        "#4.Demonstrate polymorphism by creating a base class Bird with a method fly(). Create two derived classes\n",
        "# Sparrow and Penguin that override the fly() method.\n",
        "\n",
        "class Bird:\n",
        "    def fly(self):\n",
        "        print(\"Some birds can fly\")\n",
        "\n",
        "\n",
        "class Sparrow(Bird):\n",
        "    def fly(self):\n",
        "        print(\"Sparrow can fly high in the sky\")\n",
        "\n",
        "\n",
        "class Penguin(Bird):\n",
        "    def fly(self):\n",
        "        print(\"Penguin cannot fly, it swims instead\")\n",
        "\n",
        "\n",
        "birds = [Sparrow(), Penguin()]\n",
        "\n",
        "for bird in birds:\n",
        "    bird.fly()\n"
      ],
      "metadata": {
        "colab": {
          "base_uri": "https://localhost:8080/"
        },
        "id": "IKAReJ-4bgY5",
        "outputId": "c967beb9-74eb-4a0a-85d2-597eb9cd59d3"
      },
      "execution_count": 8,
      "outputs": [
        {
          "output_type": "stream",
          "name": "stdout",
          "text": [
            "Sparrow can fly high in the sky\n",
            "Penguin cannot fly, it swims instead\n"
          ]
        }
      ]
    },
    {
      "cell_type": "code",
      "source": [
        "#5. Write a program to demonstrate encapsulation by creating a class BankAccount with private attributes\n",
        "#balance and methods to deposit, withdraw, and check balance.\n",
        "class BankAccount:\n",
        "    def __init__(self, initial_balance=0):\n",
        "        self.__balance = initial_balance  # Private attribute\n",
        "\n",
        "    # Method to deposit money\n",
        "    def deposit(self, amount):\n",
        "        if amount > 0:\n",
        "            self.__balance += amount\n",
        "            print(f\"Deposited: ${amount}\")\n",
        "        else:\n",
        "            print(\"Deposit amount must be positive\")\n",
        "\n",
        "    # Method to withdraw money\n",
        "    def withdraw(self, amount):\n",
        "        if amount > 0:\n",
        "            if amount <= self.__balance:\n",
        "                self.__balance -= amount\n",
        "                print(f\"Withdrawn: ${amount}\")\n",
        "            else:\n",
        "                print(\"Insufficient balance\")\n",
        "        else:\n",
        "            print(\"Withdrawal amount must be positive\")\n",
        "\n",
        "    # Method to check balance\n",
        "    def check_balance(self):\n",
        "        print(f\"Current balance: ${self.__balance}\")\n",
        "\n",
        "account = BankAccount(1000)  # Initial balance $1000\n",
        "account.check_balance()\n",
        "\n",
        "account.deposit(500)\n",
        "account.check_balance()\n",
        "\n",
        "account.withdraw(300)\n",
        "account.check_balance()\n",
        "\n",
        "\n"
      ],
      "metadata": {
        "colab": {
          "base_uri": "https://localhost:8080/"
        },
        "id": "hfli4sJCesbr",
        "outputId": "d3db7555-8f6d-47f2-f1cd-501f0728504f"
      },
      "execution_count": 9,
      "outputs": [
        {
          "output_type": "stream",
          "name": "stdout",
          "text": [
            "Current balance: $1000\n",
            "Deposited: $500\n",
            "Current balance: $1500\n",
            "Withdrawn: $300\n",
            "Current balance: $1200\n"
          ]
        }
      ]
    },
    {
      "cell_type": "code",
      "source": [
        "#6.Demonstrate runtime polymorphism using a method play() in a base class Instrument. Derive classes Guitar\n",
        "#and Piano that implement their own version of play().\n",
        "# Base class\n",
        "class Instrument:\n",
        "    def play(self):\n",
        "        print(\"Playing some instrument\")\n",
        "\n",
        "# Derived class 1\n",
        "class Guitar(Instrument):\n",
        "    def play(self):\n",
        "        print(\"Playing the Guitar\")\n",
        "\n",
        "# Derived class 2\n",
        "class Piano(Instrument):\n",
        "    def play(self):\n",
        "        print(\"Playing the Piano\")\n",
        "\n",
        "# Demonstrating runtime polymorphism\n",
        "instruments = [Guitar(), Piano()]\n",
        "\n",
        "for instrument in instruments:\n",
        "    instrument.play()  # Calls the appropriate play() method at runtime\n"
      ],
      "metadata": {
        "colab": {
          "base_uri": "https://localhost:8080/"
        },
        "id": "iPcEL1KTgaHG",
        "outputId": "fce07529-b949-4e3b-aabb-6e50e750cac5"
      },
      "execution_count": 10,
      "outputs": [
        {
          "output_type": "stream",
          "name": "stdout",
          "text": [
            "Playing the Guitar\n",
            "Playing the Piano\n"
          ]
        }
      ]
    },
    {
      "cell_type": "code",
      "source": [
        "#7.Create a class MathOperations with a class method add_numbers() to add two numbers and a static\n",
        "#method subtract_numbers() to subtract two numbers.\n",
        "class MathOperations:\n",
        "    @classmethod\n",
        "    def add_numbers(cls, a, b):\n",
        "        return a + b\n",
        "\n",
        "    @staticmethod\n",
        "    def subtract_numbers(a, b):\n",
        "        return a - b\n",
        "\n",
        "sum_result = MathOperations.add_numbers(10, 5)\n",
        "print(f\"Sum: {sum_result}\")\n",
        "\n",
        "diff_result = MathOperations.subtract_numbers(10, 5)\n",
        "print(f\"Difference: {diff_result}\")"
      ],
      "metadata": {
        "colab": {
          "base_uri": "https://localhost:8080/"
        },
        "id": "2Cfd4qyGhger",
        "outputId": "583383d3-3d8a-4731-d3ec-97ca89ed8fa2"
      },
      "execution_count": 11,
      "outputs": [
        {
          "output_type": "stream",
          "name": "stdout",
          "text": [
            "Sum: 15\n",
            "Difference: 5\n"
          ]
        }
      ]
    },
    {
      "cell_type": "code",
      "source": [
        "#8. Implement a class Person with a class method to count the total number of persons created.\n",
        "class Person:\n",
        "    total_persons = 0\n",
        "    def __init__(self, name, age):\n",
        "        self.name = name\n",
        "        self.age = age\n",
        "        Person.total_persons += 1\n",
        "\n",
        "    # Class method to get total number of persons\n",
        "    @classmethod\n",
        "    def get_total_persons(cls):\n",
        "        return cls.total_persons\n",
        "\n",
        "# Creating Person objects\n",
        "p1 = Person(\"Alice\", 25)\n",
        "p2 = Person(\"Bob\", 30)\n",
        "p3 = Person(\"Charlie\", 22)\n",
        "\n",
        "# Using class method to get total persons\n",
        "print(f\"Total persons created: {Person.get_total_persons()}\")\n",
        "\n",
        "\n"
      ],
      "metadata": {
        "colab": {
          "base_uri": "https://localhost:8080/"
        },
        "id": "kQ4hRL6kiXp-",
        "outputId": "10e4d732-febb-4893-d58a-a436db98d376"
      },
      "execution_count": 12,
      "outputs": [
        {
          "output_type": "stream",
          "name": "stdout",
          "text": [
            "Total persons created: 3\n"
          ]
        }
      ]
    },
    {
      "cell_type": "code",
      "source": [
        "#9.Write a class Fraction with attributes numerator and denominator. Override the str method to display the\n",
        "#fraction as \"numerator/denominator\".\n",
        "class Fraction:\n",
        "    def __init__(self, numerator, denominator):\n",
        "        self.numerator = numerator\n",
        "        self.denominator = denominator\n",
        "\n",
        "    # Override __str__ method\n",
        "    def __str__(self):\n",
        "        return f\"{self.numerator}/{self.denominator}\"\n",
        "\n",
        "f1 = Fraction(3, 4)\n",
        "f2 = Fraction(5, 8)\n",
        "\n",
        "print(f1)\n",
        "print(f2)"
      ],
      "metadata": {
        "colab": {
          "base_uri": "https://localhost:8080/"
        },
        "id": "4sXUJIPci4-f",
        "outputId": "9077a81d-9852-40ec-c3ee-6c040627a92e"
      },
      "execution_count": 13,
      "outputs": [
        {
          "output_type": "stream",
          "name": "stdout",
          "text": [
            "3/4\n",
            "5/8\n"
          ]
        }
      ]
    },
    {
      "cell_type": "code",
      "source": [
        "#10.Demonstrate operator overloading by creating a class Vector and overriding the add method to add two vectors.\n",
        "class Vector:\n",
        "    def __init__(self, x, y):\n",
        "        self.x = x\n",
        "        self.y = y\n",
        "\n",
        "    # Overriding the + operator\n",
        "    def __add__(self, other):\n",
        "        return Vector(self.x + other.x, self.y + other.y)\n",
        "    # Overriding the str method for readable output\n",
        "    def __str__(self):\n",
        "        return f\"({self.x}, {self.y})\"\n",
        "\n",
        "# Testing the Vector class\n",
        "v1 = Vector(2, 3)\n",
        "v2 = Vector(4, 5)\n",
        "\n",
        "v3 = v1 + v2  # Uses __add__ method\n",
        "print(f\"v1 + v2 = {v3}\")\n"
      ],
      "metadata": {
        "colab": {
          "base_uri": "https://localhost:8080/"
        },
        "id": "p2r1k4Fwj0Pv",
        "outputId": "4d52804b-4559-4276-fffd-9e12ac31b181"
      },
      "execution_count": 15,
      "outputs": [
        {
          "output_type": "stream",
          "name": "stdout",
          "text": [
            "v1 + v2 = (6, 8)\n"
          ]
        }
      ]
    },
    {
      "cell_type": "code",
      "source": [
        "#11. Create a class Person with attributes name and age. Add a method greet() that prints \"Hello, my name is\n",
        "#{name} and I am {age} years old.\"\n",
        "class Person:\n",
        "    def __init__(self, name, age):\n",
        "        self.name = name\n",
        "        self.age = age\n",
        "\n",
        "    # Method to greet\n",
        "    def greet(self):\n",
        "        print(f\"Hello, my name is {self.name} and I am {self.age} years old.\")\n",
        "\n",
        "person1 = Person(\"Alice\", 25)\n",
        "person2 = Person(\"Bob\", 30)\n",
        "\n",
        "person1.greet()\n",
        "person2.greet()\n",
        "\n"
      ],
      "metadata": {
        "colab": {
          "base_uri": "https://localhost:8080/"
        },
        "id": "9L3aQscukbR4",
        "outputId": "9c4cb668-852a-4d41-ee9e-4d9686d0a839"
      },
      "execution_count": 16,
      "outputs": [
        {
          "output_type": "stream",
          "name": "stdout",
          "text": [
            "Hello, my name is Alice and I am 25 years old.\n",
            "Hello, my name is Bob and I am 30 years old.\n"
          ]
        }
      ]
    },
    {
      "cell_type": "code",
      "source": [
        "#12. Implement a class Student with attributes name and grades. Create a method average_grade() to compute the average of the grades.\n",
        "class Student:\n",
        "    def __init__(self, name, grades):\n",
        "        self.name = name\n",
        "        self.grades = grades\n",
        "\n",
        "    # Method to compute average grade\n",
        "    def average_grade(self):\n",
        "        if not self.grades:\n",
        "            return 0  # Handle empty grade list\n",
        "        return sum(self.grades) / len(self.grades)\n",
        "\n",
        "student1 = Student(\"Alice\", [85, 90, 78, 92])\n",
        "student2 = Student(\"Bob\", [70, 75, 80])\n",
        "\n",
        "print(f\"{student1.name}'s average grade: {student1.average_grade():.2f}\")\n",
        "print(f\"{student2.name}'s average grade: {student2.average_grade():.2f}\")\n"
      ],
      "metadata": {
        "colab": {
          "base_uri": "https://localhost:8080/"
        },
        "id": "kdk57476ksk6",
        "outputId": "7bdc4798-4f0d-4fdf-aa29-79ed96fe6bda"
      },
      "execution_count": 17,
      "outputs": [
        {
          "output_type": "stream",
          "name": "stdout",
          "text": [
            "Alice's average grade: 86.25\n",
            "Bob's average grade: 75.00\n"
          ]
        }
      ]
    },
    {
      "cell_type": "code",
      "source": [
        "#13.Create a class Rectangle with methods set_dimensions() to set the dimensions and area() to calculate the area.\n",
        "class Rectangle:\n",
        "    def __init__(self):\n",
        "        self.length = 0\n",
        "        self.width = 0\n",
        "\n",
        "    # Method to set dimensions\n",
        "    def set_dimensions(self, length, width):\n",
        "        self.length = length\n",
        "        self.width = width\n",
        "    # Method to calculate area\n",
        "    def area(self):\n",
        "        return self.length * self.width\n",
        "\n",
        "rect = Rectangle()\n",
        "rect.set_dimensions(5, 10)\n",
        "\n",
        "print(f\"Rectangle length: {rect.length}, width: {rect.width}\")\n",
        "print(f\"Area of rectangle: {rect.area()}\")\n"
      ],
      "metadata": {
        "colab": {
          "base_uri": "https://localhost:8080/"
        },
        "id": "Zmhk_ZyHlHgZ",
        "outputId": "06857720-6572-4c30-8408-87b149410003"
      },
      "execution_count": 18,
      "outputs": [
        {
          "output_type": "stream",
          "name": "stdout",
          "text": [
            "Rectangle length: 5, width: 10\n",
            "Area of rectangle: 50\n"
          ]
        }
      ]
    },
    {
      "cell_type": "code",
      "source": [
        "#14. Create a class Employee with a method calculate_salary() that computes the salary based on hours worked\n",
        "# and hourly rate. Create a derived class Manager that adds a bonus to the salary.\n",
        "# Base class\n",
        "class Employee:\n",
        "    def __init__(self, name, hours_worked, hourly_rate):\n",
        "        self.name = name\n",
        "        self.hours_worked = hours_worked\n",
        "        self.hourly_rate = hourly_rate\n",
        "\n",
        "    # Method to calculate salary\n",
        "    def calculate_salary(self):\n",
        "        return self.hours_worked * self.hourly_rate\n",
        "\n",
        "# Derived class\n",
        "class Manager(Employee):\n",
        "    def __init__(self, name, hours_worked, hourly_rate, bonus):\n",
        "        super().__init__(name, hours_worked, hourly_rate)  # Call base class constructor\n",
        "        self.bonus = bonus\n",
        "\n",
        "    # Override calculate_salary to include bonus\n",
        "    def calculate_salary(self):\n",
        "        base_salary = super().calculate_salary()  # Call base class method\n",
        "        return base_salary + self.bonus\n",
        "\n",
        "# Testing the classes\n",
        "emp = Employee(\"Alice\", 40, 20)\n",
        "mgr = Manager(\"Bob\", 40, 25, 500)\n",
        "\n",
        "print(f\"{emp.name}'s Salary: ${emp.calculate_salary()}\")\n",
        "print(f\"{mgr.name}'s Salary: ${mgr.calculate_salary()}\")\n",
        "\n",
        "\n"
      ],
      "metadata": {
        "colab": {
          "base_uri": "https://localhost:8080/"
        },
        "id": "wUd-hJLFmCDL",
        "outputId": "a3aafbf1-2e8c-4cfe-d657-d494ef587094"
      },
      "execution_count": 19,
      "outputs": [
        {
          "output_type": "stream",
          "name": "stdout",
          "text": [
            "Alice's Salary: $800\n",
            "Bob's Salary: $1500\n"
          ]
        }
      ]
    },
    {
      "cell_type": "code",
      "source": [
        "#15. Create a class Product with attributes name, price, and quantity. Implement a method total_price() that calculates the total price of the product.\n",
        "class Product:\n",
        "    def __init__(self, name, price, quantity):\n",
        "        self.name = name\n",
        "        self.price = price\n",
        "        self.quantity = quantity\n",
        "\n",
        "    # Method to calculate total price\n",
        "    def total_price(self):\n",
        "        return self.price * self.quantity\n",
        "\n",
        "# Testing the Product class\n",
        "product1 = Product(\"Laptop\", 800, 3)\n",
        "product2 = Product(\"Phone\", 500, 5)\n",
        "\n",
        "print(f\"Total price of {product1.name}: ${product1.total_price()}\")\n",
        "print(f\"Total price of {product2.name}: ${product2.total_price()}\")\n",
        "\n"
      ],
      "metadata": {
        "colab": {
          "base_uri": "https://localhost:8080/"
        },
        "id": "EVnT4BVZmZkQ",
        "outputId": "9baabcdb-8797-4ab8-f1ed-4c20d854afb2"
      },
      "execution_count": 20,
      "outputs": [
        {
          "output_type": "stream",
          "name": "stdout",
          "text": [
            "Total price of Laptop: $2400\n",
            "Total price of Phone: $2500\n"
          ]
        }
      ]
    },
    {
      "cell_type": "code",
      "source": [
        "#16. Create a class Animal with an abstract method sound(). Create two derived classes Cow and Sheep that implement the sound() method.\n",
        "from abc import ABC, abstractmethod\n",
        "\n",
        "# Abstract base class\n",
        "class Animal(ABC):\n",
        "    @abstractmethod\n",
        "    def sound(self):\n",
        "        pass\n",
        "\n",
        "class Cow(Animal):\n",
        "    def sound(self):\n",
        "        return \"Moo\"\n",
        "\n",
        "class Sheep(Animal):\n",
        "    def sound(self):\n",
        "        return \"Baa\"\n",
        "\n",
        "animals = [Cow(), Sheep()]\n",
        "\n",
        "for animal in animals:\n",
        "    print(f\"{animal.__class__.__name__} makes sound: {animal.sound()}\")\n"
      ],
      "metadata": {
        "colab": {
          "base_uri": "https://localhost:8080/"
        },
        "id": "zXkXLXBmmubq",
        "outputId": "dbfc7de5-23c5-442a-cf1a-19cd3e103181"
      },
      "execution_count": 21,
      "outputs": [
        {
          "output_type": "stream",
          "name": "stdout",
          "text": [
            "Cow makes sound: Moo\n",
            "Sheep makes sound: Baa\n"
          ]
        }
      ]
    },
    {
      "cell_type": "code",
      "source": [
        "#17.Create a class Book with attributes title, author, and year_published. Add a method get_book_info() that returns a formatted string with the book's details.\n",
        "class Book:\n",
        "    def __init__(self, title, author, year_published):\n",
        "        self.title = title\n",
        "        self.author = author\n",
        "        self.year_published = year_published\n",
        "\n",
        "    # Method to return formatted book info\n",
        "    def get_book_info(self):\n",
        "        return f\"Title: {self.title}, Author: {self.author}, Year Published: {self.year_published}\"\n",
        "book1 = Book(\"1984\", \"George Orwell\", 1949)\n",
        "book2 = Book(\"To Kill a Mockingbird\", \"Harper Lee\", 1960)\n",
        "\n",
        "print(book1.get_book_info())\n",
        "print(book2.get_book_info())"
      ],
      "metadata": {
        "colab": {
          "base_uri": "https://localhost:8080/"
        },
        "id": "pJArHswwnLNQ",
        "outputId": "8337d69d-2545-4b51-a65e-e5de51738736"
      },
      "execution_count": 22,
      "outputs": [
        {
          "output_type": "stream",
          "name": "stdout",
          "text": [
            "Title: 1984, Author: George Orwell, Year Published: 1949\n",
            "Title: To Kill a Mockingbird, Author: Harper Lee, Year Published: 1960\n"
          ]
        }
      ]
    },
    {
      "cell_type": "code",
      "source": [
        "#18. Create a class House with attributes address and price. Create a derived class Mansion that adds an attribute number_of_rooms.\n",
        "class House:\n",
        "    def __init__(self, address, price):\n",
        "        self.address = address\n",
        "        self.price = price\n",
        "\n",
        "    def get_info(self):\n",
        "        return f\"Address: {self.address}, Price: ${self.price}\"\n",
        "\n",
        "# Derived class\n",
        "class Mansion(House):\n",
        "    def __init__(self, address, price, number_of_rooms):\n",
        "        super().__init__(address, price)\n",
        "        self.number_of_rooms = number_of_rooms\n",
        "\n",
        "    def get_info(self):\n",
        "        base_info = super().get_info()\n",
        "        return f\"{base_info}, Number of rooms: {self.number_of_rooms}\"\n",
        "\n",
        "# Testing the classes\n",
        "house = House(\"123 Main St\", 250000)\n",
        "mansion = Mansion(\"456 Luxury Ave\", 2000000, 10)\n",
        "\n",
        "print(house.get_info())\n",
        "print(mansion.get_info())\n"
      ],
      "metadata": {
        "colab": {
          "base_uri": "https://localhost:8080/"
        },
        "id": "sguxW5EOn1wk",
        "outputId": "68e3626c-f52c-4d83-e50f-8ee4c9450cac"
      },
      "execution_count": 23,
      "outputs": [
        {
          "output_type": "stream",
          "name": "stdout",
          "text": [
            "Address: 123 Main St, Price: $250000\n",
            "Address: 456 Luxury Ave, Price: $2000000, Number of rooms: 10\n"
          ]
        }
      ]
    }
  ]
}